我按之前的有4个按钮不同语言报时的那个版本进行了测试。把罗马语按钮替换成英语的。需要替换2处内容。英语的py脚本名为english_speak_time.py，里面定义了模块speak_english

1.最上面
from Romanian import ro_speak_the_clock
替换为
from english_speak_time import speak_english

2.按钮处
# The button for telling time in Romanian
RoSpeakTime = tk.Button(ClockUI, text='Cât este ceasul?', bd='10',
                              command=lambda: ro_speak_the_clock(SpeedRate
                                                                 .get()))
RoSpeakTime.place(x=200, y=270)
RoSpeakTime.configure(background='#146cfa', font=button_font, width=21)
替换为
#The button for telling time in English
EnglishSpeakTime = tk.Button(ClockUI, text="What time is it now?", bd='10',
                              command=lambda: speak_english(SpeedRate.get()))
EnglishSpeakTime.place(x=200, y=270)
EnglishSpeakTime.configure(background='#146cfa', font=button_font, width=21)

