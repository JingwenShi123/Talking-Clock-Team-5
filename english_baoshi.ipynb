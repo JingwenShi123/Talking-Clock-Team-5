{
 "cells": [
  {
   "cell_type": "code",
   "execution_count": 13,
   "id": "7e9cb406-b6f3-44fb-ba2d-83f1291734e9",
   "metadata": {},
   "outputs": [],
   "source": [
    "import pygame\n",
    "from datetime import datetime\n",
    "\n",
    "# 获取当前时间\n",
    "current_time = datetime.now()\n",
    "hour = current_time.hour\n",
    "minute = current_time.minute\n",
    "\n",
    "# 转换小时为12小时制\n",
    "if hour == 0:\n",
    "    hour_str = \"12\"\n",
    "    am_pm = \"AM\"\n",
    "elif hour < 12:\n",
    "    hour_str = str(hour)\n",
    "    am_pm = \"AM\"\n",
    "elif hour == 12:\n",
    "    hour_str = \"12\"\n",
    "    am_pm = \"PM\"\n",
    "else:\n",
    "    hour_str = str(hour - 12)\n",
    "    am_pm = \"PM\"\n",
    "\n",
    "# 生成报时文本\n",
    "time_text = f\"It's {hour_str} {minute} {am_pm}\"\n",
    "\n",
    "# 播放报时\n",
    "pygame.init()\n",
    "pygame.mixer.init()\n",
    "\n",
    "# 播放 it's\n",
    "pygame.mixer.music.load(\"english_audio/its.mp3\")\n",
    "pygame.mixer.music.play()\n",
    "pygame.time.delay(1000)  # 等待1秒，以确保it's音频播放完成\n",
    "\n",
    "# 播放 hour\n",
    "hour_audio = pygame.mixer.Sound(f\"english_audio/hour-{hour}.mp3\")\n",
    "hour_audio.play()\n",
    "pygame.time.delay(1000)  # 等待1秒，以确保hour音频播放完成\n",
    "\n",
    "# 播放 minute\n",
    "minute_audio = pygame.mixer.Sound(f\"english_audio/min-{minute}.mp3\")\n",
    "minute_audio.play()\n",
    "pygame.time.delay(1000)  # 等待1秒，以确保minute音频播放完成\n",
    "\n",
    "# 播放 AM/PM\n",
    "am_pm_audio = pygame.mixer.Sound(f\"english_audio/{am_pm}.mp3\")\n",
    "am_pm_audio.play()\n",
    "pygame.time.delay(1000)  # 等待1秒，以确保AM/PM音频播放完成\n",
    "\n",
    "# 等待所有声音播放完成\n",
    "pygame.time.wait(1000)\n",
    "\n",
    "pygame.quit()\n"
   ]
  },
  {
   "cell_type": "code",
   "execution_count": null,
   "id": "28e834a5-d034-461c-92fc-a95d8c4aca1e",
   "metadata": {},
   "outputs": [],
   "source": []
  }
 ],
 "metadata": {
  "kernelspec": {
   "display_name": "Python 3 (ipykernel)",
   "language": "python",
   "name": "python3"
  },
  "language_info": {
   "codemirror_mode": {
    "name": "ipython",
    "version": 3
   },
   "file_extension": ".py",
   "mimetype": "text/x-python",
   "name": "python",
   "nbconvert_exporter": "python",
   "pygments_lexer": "ipython3",
   "version": "3.11.3"
  }
 },
 "nbformat": 4,
 "nbformat_minor": 5
}
